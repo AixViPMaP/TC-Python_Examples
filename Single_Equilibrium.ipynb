{
 "cells": [
  {
   "cell_type": "markdown",
   "metadata": {},
   "source": [
    "# Welcome to this TC-Python tutorial\n",
    "\n",
    "Please click the run button in the toolbar or click shift+enter hot-key to run the codes in a cell."
   ]
  },
  {
   "cell_type": "markdown",
   "metadata": {},
   "source": [
    "## Init a session\n",
    "Note: *The cell below should be  invoked only once in the lifetime of the process (kernel).*\n",
    "To end the session before closing the kernel, remove all python variables of `session`. Such as \n",
    "\n",
    "    del session\n",
    "    # or \n",
    "    session = []\n",
    "   "
   ]
  },
  {
   "cell_type": "code",
   "execution_count": 1,
   "metadata": {},
   "outputs": [],
   "source": [
    "import tc_ipython as tc\n",
    "session = tc.TCPython_session()"
   ]
  },
  {
   "cell_type": "code",
   "execution_count": 2,
   "metadata": {},
   "outputs": [
    {
     "name": "stdout",
     "output_type": "stream",
     "text": [
      "    PID TTY          TIME CMD\n",
      "  46102 ?        00:00:00 condor_exec.exe\n",
      "  46121 ?        00:00:00 bash\n",
      "  46376 ?        00:00:26 ZMQbg/1\n",
      "  49668 ?        00:00:00 ZMQbg/1\n",
      "  49709 ?        00:00:00 java\n",
      "  49763 pts/6    00:00:00 ps\n"
     ]
    }
   ],
   "source": [
    "# You should see a Java process running in the backgroud. That's the Thermo-Calc server\n",
    "! ps -U $USER"
   ]
  },
  {
   "cell_type": "markdown",
   "metadata": {},
   "source": [
    "## Define system\n",
    "Each cell below is preceded by the eqivalent console mode commands.\n",
    "\n",
    "    sw tcfe9\n",
    "    d-sys fe c mn"
   ]
  },
  {
   "cell_type": "code",
   "execution_count": 3,
   "metadata": {},
   "outputs": [],
   "source": [
    "sysconf=session.select_database_and_elements(\"TCFE9\", ['Fe', 'C', 'Mn'])"
   ]
  },
  {
   "cell_type": "markdown",
   "metadata": {},
   "source": [
    "    rej ph *\n",
    "    res phase  BCC_A2 FCC_A1 GRAPHITE KSI_CARBIDE CEMENTITE"
   ]
  },
  {
   "cell_type": "code",
   "execution_count": 4,
   "metadata": {},
   "outputs": [],
   "source": [
    "sysconf.without_default_phases()\n",
    "sysconf.select_phase('BCC_A2 FCC_A1 GRAPHITE KSI_CARBIDE CEMENTITE' );"
   ]
  },
  {
   "cell_type": "markdown",
   "metadata": {},
   "source": [
    "    get-data\n",
    "    list-system phases"
   ]
  },
  {
   "cell_type": "code",
   "execution_count": 6,
   "metadata": {},
   "outputs": [
    {
     "data": {
      "text/plain": [
       "['CEMENTITE', 'BCC_A2', 'FCC_A1', 'GRAPHITE', 'KSI_CARBIDE']"
      ]
     },
     "execution_count": 6,
     "metadata": {},
     "output_type": "execute_result"
    }
   ],
   "source": [
    "fesys=sysconf.get_system()\n",
    "fesys.get_phases_in_system()"
   ]
  },
  {
   "cell_type": "markdown",
   "metadata": {},
   "source": [
    "## Set conditions for poly3 calculations\n",
    "\n",
    "    go poly\n",
    "    set-condition ...\n",
    "    ADVANCED_OPTIONS GLOBAL_MINIMIZATION N\n",
    "    "
   ]
  },
  {
   "cell_type": "code",
   "execution_count": 7,
   "metadata": {},
   "outputs": [],
   "source": [
    "conditions={\n",
    "    \"P\"      : 101325,\n",
    "    \"N\"      : 1.0,\n",
    "    \"T\"      : 773,\n",
    "    \"W(C)\"   : 0.22E-2,\n",
    "    \"W(Mn)\"  : 1.25E-2\n",
    "}\n",
    "calc_eq = fesys.with_single_equilibrium_calculation()\n",
    "for k,v in conditions.items():\n",
    "    calc_eq.set_condition(k,v)\n",
    "calc_eq = calc_eq.disable_global_minimization()"
   ]
  },
  {
   "cell_type": "markdown",
   "metadata": {},
   "source": [
    "This will print out the conditions to the log file under `~/.Thermo-Calc`"
   ]
  },
  {
   "cell_type": "code",
   "execution_count": 15,
   "metadata": {},
   "outputs": [
    {
     "name": "stdout",
     "output_type": "stream",
     "text": [
      "20:47:11,733 [Thread-2] INFO  CalculationContainer:   DEGREES OF FREEDOM 0\n",
      "20:48:17,788 [Thread-2] INFO  CalculationContainer:   P=1.01325E5, N=1, T=773, W(C)=2.2E-3, W(MN)=1.25E-2\n",
      "20:48:17,788 [Thread-2] INFO  CalculationContainer:   DEGREES OF FREEDOM 0\n"
     ]
    }
   ],
   "source": [
    "calc_eq.run_poly_command('LIST_CONDITIONS');\n",
    "!tail -n 3 \"$HOME/.Thermo-Calc/thermo-calc.log\""
   ]
  },
  {
   "cell_type": "markdown",
   "metadata": {},
   "source": [
    "## Run the calculation"
   ]
  },
  {
   "cell_type": "code",
   "execution_count": 16,
   "metadata": {},
   "outputs": [
    {
     "data": {
      "text/plain": [
       "['BCC_A2#1', 'CEMENTITE#1', 'GRAPHITE#1']"
      ]
     },
     "execution_count": 16,
     "metadata": {},
     "output_type": "execute_result"
    }
   ],
   "source": [
    "r=calc_eq.calculate()\n",
    "r.get_stable_phases()"
   ]
  },
  {
   "cell_type": "markdown",
   "metadata": {},
   "source": [
    "## List information of each stable phases"
   ]
  },
  {
   "cell_type": "code",
   "execution_count": 17,
   "metadata": {},
   "outputs": [
    {
     "data": {
      "text/html": [
       "<table border=\"1\" class=\"dataframe\">\n",
       "  <thead>\n",
       "    <tr style=\"text-align: right;\">\n",
       "      <th></th>\n",
       "      <th>Mole</th>\n",
       "      <th>C mass fr.</th>\n",
       "      <th>Mn mass fr.</th>\n",
       "      <th>C chem. potential</th>\n",
       "      <th>Mn chem. potential</th>\n",
       "      <th>Molar Gibbs energy</th>\n",
       "    </tr>\n",
       "  </thead>\n",
       "  <tbody>\n",
       "    <tr>\n",
       "      <th>BCC_A2#1</th>\n",
       "      <td>9.751e-01</td>\n",
       "      <td>3.832e-06</td>\n",
       "      <td>7.899e-03</td>\n",
       "      <td>nan</td>\n",
       "      <td>-2.254e+04</td>\n",
       "      <td>-2.864e+04</td>\n",
       "    </tr>\n",
       "    <tr>\n",
       "      <th>CEMENTITE#1</th>\n",
       "      <td>1.971e-02</td>\n",
       "      <td>6.722e-02</td>\n",
       "      <td>2.980e-01</td>\n",
       "      <td>nan</td>\n",
       "      <td>nan</td>\n",
       "      <td>-2.925e+04</td>\n",
       "    </tr>\n",
       "    <tr>\n",
       "      <th>GRAPHITE#1</th>\n",
       "      <td>5.202e-03</td>\n",
       "      <td>1.000e+00</td>\n",
       "      <td>0.000e+00</td>\n",
       "      <td>0.000e+00</td>\n",
       "      <td>nan</td>\n",
       "      <td>-7.696e+03</td>\n",
       "    </tr>\n",
       "  </tbody>\n",
       "</table>"
      ],
      "text/plain": [
       "<IPython.core.display.HTML object>"
      ]
     },
     "metadata": {},
     "output_type": "display_data"
    }
   ],
   "source": [
    "from IPython.core.display import display, HTML\n",
    "cols = [\n",
    "    ('Mole','NP({ph})'),\n",
    "    ('C mass fr.', 'W({ph},C)'), \n",
    "    ('Mn mass fr.', 'W({ph},Mn)'), \n",
    "    ('C chem. potential', 'MUR(C,{ph})'), \n",
    "    ('Mn chem. potential', 'MUR(Mn,{ph})'),\n",
    "    ('Molar Gibbs energy', 'GM({ph})')\n",
    "]\n",
    "df=tc.to_phase_table(r,cols)\n",
    "display(HTML(df.to_html(float_format=lambda x:'{0:12.3e}'.format(x))))"
   ]
  },
  {
   "cell_type": "markdown",
   "metadata": {},
   "source": [
    "## Perform some math ..."
   ]
  },
  {
   "cell_type": "code",
   "execution_count": 22,
   "metadata": {},
   "outputs": [
    {
     "name": "stdout",
     "output_type": "stream",
     "text": [
      "sum(N*GM)= -28541.734449276668  = G =  -28541.734449276668\n"
     ]
    }
   ],
   "source": [
    "print( 'sum(N*GM)='  ,  (df['Mole']*df['Molar Gibbs energy']).sum() , ' = G = ' , r.get_value_of('G') )"
   ]
  },
  {
   "cell_type": "markdown",
   "metadata": {},
   "source": [
    "## Destroy the TC session (will close the ThermoCalc server in the background)"
   ]
  },
  {
   "cell_type": "code",
   "execution_count": 23,
   "metadata": {},
   "outputs": [],
   "source": [
    "session=0"
   ]
  },
  {
   "cell_type": "code",
   "execution_count": 25,
   "metadata": {},
   "outputs": [
    {
     "ename": "APIServerException",
     "evalue": "Connection to the internal API-server failed",
     "output_type": "error",
     "traceback": [
      "\u001b[0;31m---------------------------------------------------------------------------\u001b[0m",
      "\u001b[0;31mAPIServerException\u001b[0m                        Traceback (most recent call last)",
      "\u001b[0;32m<ipython-input-25-5a04140c82f4>\u001b[0m in \u001b[0;36m<module>\u001b[0;34m()\u001b[0m\n\u001b[1;32m      1\u001b[0m \u001b[0;31m# This will cause error:\u001b[0m\u001b[0;34m\u001b[0m\u001b[0;34m\u001b[0m\u001b[0m\n\u001b[0;32m----> 2\u001b[0;31m \u001b[0mcalc_eq\u001b[0m\u001b[0;34m.\u001b[0m\u001b[0mcalculate\u001b[0m\u001b[0;34m(\u001b[0m\u001b[0;34m)\u001b[0m\u001b[0;34m\u001b[0m\u001b[0m\n\u001b[0m",
      "\u001b[0;32m/opt/aixvipmap/jupyter/lib/python3.6/site-packages/tc_python/exceptions.py\u001b[0m in \u001b[0;36mdecorator\u001b[0;34m(*args, **kwargs)\u001b[0m\n\u001b[1;32m     73\u001b[0m             \u001b[0;32mif\u001b[0m \u001b[0mexception\u001b[0m\u001b[0;34m:\u001b[0m\u001b[0;34m\u001b[0m\u001b[0m\n\u001b[1;32m     74\u001b[0m                 \u001b[0;31m# the original cause gets suppressed when using \"from None\"\u001b[0m\u001b[0;34m\u001b[0m\u001b[0;34m\u001b[0m\u001b[0m\n\u001b[0;32m---> 75\u001b[0;31m                 \u001b[0;32mraise\u001b[0m \u001b[0mexception\u001b[0m \u001b[0;32mfrom\u001b[0m \u001b[0;32mNone\u001b[0m\u001b[0;34m\u001b[0m\u001b[0m\n\u001b[0m\u001b[1;32m     76\u001b[0m             \u001b[0;32melse\u001b[0m\u001b[0;34m:\u001b[0m\u001b[0;34m\u001b[0m\u001b[0m\n\u001b[1;32m     77\u001b[0m                 \u001b[0;31m# any other exception is just re-raised\u001b[0m\u001b[0;34m\u001b[0m\u001b[0;34m\u001b[0m\u001b[0m\n",
      "\u001b[0;31mAPIServerException\u001b[0m: Connection to the internal API-server failed"
     ]
    }
   ],
   "source": [
    "# This will cause error:\n",
    "calc_eq.calculate()"
   ]
  },
  {
   "cell_type": "code",
   "execution_count": null,
   "metadata": {},
   "outputs": [],
   "source": []
  }
 ],
 "metadata": {
  "kernelspec": {
   "display_name": "Python 3",
   "language": "python",
   "name": "python3"
  },
  "language_info": {
   "codemirror_mode": {
    "name": "ipython",
    "version": 3
   },
   "file_extension": ".py",
   "mimetype": "text/x-python",
   "name": "python",
   "nbconvert_exporter": "python",
   "pygments_lexer": "ipython3",
   "version": "3.6.6"
  }
 },
 "nbformat": 4,
 "nbformat_minor": 2
}
